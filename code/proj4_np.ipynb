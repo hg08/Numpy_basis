{
 "cells": [
  {
   "cell_type": "markdown",
   "metadata": {},
   "source": [
    "# 项目4: 简单的对弈模型与分析"
   ]
  },
  {
   "cell_type": "code",
   "execution_count": 1,
   "metadata": {
    "scrolled": true
   },
   "outputs": [],
   "source": [
    "# 提示:\n",
    "#\n",
    "# 定义函数create_board()：\n",
    "#  使用numpy 返回一个3x3的array, 初始元素为0，\n",
    "\n",
    "# 调用该函数， 结果保存到board.并打印出board\n",
    "\n",
    "#==YOUR CODE===\n",
    "\n"
   ]
  },
  {
   "cell_type": "code",
   "execution_count": 85,
   "metadata": {},
   "outputs": [],
   "source": [
    "# 提示:\n",
    "# \n",
    "# 1.定义一个函数 place(board, player, position)\n",
    "# player：代表当前玩家(一个1或2的整数，表示玩家1或2)\n",
    "# position:一个tuple,表示想要落子的坐标位置\n",
    "# 只有当position位置未被占用（该位置上的值为0），方能落子，落子后将position位置\n",
    "# 换成player的值\n",
    "#\n",
    "# 2.使用create_board()创建棋盘board,\n",
    "# 并调用place将玩家1放置到(0,0)\n",
    "\n",
    "\n",
    "        \n",
    "# 利用create_board()创建一个棋盘board\n",
    "\n",
    "\n",
    "#利用create_board()保存棋盘到变量board, 利用 place()使棋手1放置其自身的号码到位置(0, 0).\n",
    "\n",
    "# 打印出board."
   ]
  },
  {
   "cell_type": "code",
   "execution_count": 2,
   "metadata": {
    "scrolled": true
   },
   "outputs": [],
   "source": [
    "# 提示:\n",
    "# 建立一个函数possibilities(board),返\n",
    "# 回棋盘上所有未被放置棋子的位置的一个序列(保存为元组).\n",
    "\n"
   ]
  },
  {
   "cell_type": "code",
   "execution_count": 3,
   "metadata": {},
   "outputs": [],
   "source": [
    "# 提示:\n",
    "# 1.写一个函数random_place(board,player),随机地放置\n",
    "# 玩家到可能的位置\n",
    "#\n",
    "# 2. 可以用random.choice()\n",
    "import random\n",
    "\n",
    "#==YOUR CODE==\n",
    "    \n",
    "    \n",
    "# 调用此函数，并打印board   \n",
    "#==YOUR CODE==\n"
   ]
  },
  {
   "cell_type": "code",
   "execution_count": 7,
   "metadata": {},
   "outputs": [],
   "source": [
    "board = create_board()\n",
    "# 提示：\n",
    "# 对玩家1和玩家2,调用random_place(board,player)\n",
    "# 使分别放置3个棋子在棋盘board上.\n",
    "\n",
    "#==YOUR CODE==\n",
    "\n",
    "# 打印出board\n"
   ]
  },
  {
   "cell_type": "code",
   "execution_count": 8,
   "metadata": {},
   "outputs": [],
   "source": [
    "# 提示:\n",
    "# 建立一个函数row_win(board, player)\n",
    "# 判断如果任意一行满足都是player的标志,\n",
    "# 则返回True,否则返回False\n",
    "\n",
    "#==YOUR CODE==\n",
    "\n",
    "# 测试\n",
    "print(row_win(board,1))"
   ]
  },
  {
   "cell_type": "code",
   "execution_count": 9,
   "metadata": {},
   "outputs": [],
   "source": [
    "# 建立一个函数col_win(board, player)\n",
    "# 判断如果任意一列满足都是player的标志\n",
    "# 则返回True,否则返回False\n",
    "\n",
    "#==YOUR CODE==\n",
    "\n",
    "\n",
    "# 测试\n",
    "print(col_win(board,1))"
   ]
  },
  {
   "cell_type": "code",
   "execution_count": 10,
   "metadata": {},
   "outputs": [],
   "source": [
    "# 建立一个函数diag_win(board, player),\n",
    "# 如果player赢,返回True, 否则False. \n",
    "# 可能要用到np.rot90()函数.\n",
    "\n",
    "#==YOUR CODE==\n",
    "   \n",
    "# 测试\n"
   ]
  },
  {
   "cell_type": "code",
   "execution_count": 13,
   "metadata": {},
   "outputs": [],
   "source": [
    "# 提示:\n",
    "# 创建一个函数evaluate(board)\n",
    "# 对玩家1,2，判断是否满足`row_win`, `col_win`, 或 `diag_win`\n",
    "# 若满足，则保存玩家编号到winner\n",
    "# 若无处落子但还未分出胜负则返回winner=-1\n",
    "\n",
    "def evaluate(board):\n",
    "    winner = 0\n",
    "    for player in [1, 2]:\n",
    "        # 检查是否 `row_win`, `col_win`, 或 `diag_win` 成立. \n",
    "        # 如果是, 保存 `player` 为 `winner`.\n",
    "        #===YOUR CODE=\n",
    "        \n",
    "        #============= \n",
    "    if np.all(board != 0) and winner == 0:\n",
    "        winner = -1\n",
    "    return winner\n",
    "\n",
    "# 测试\n"
   ]
  },
  {
   "cell_type": "code",
   "execution_count": 14,
   "metadata": {},
   "outputs": [],
   "source": [
    "# 提示:\n",
    "# 创建一个函数play_game(),实现以下功能:\n",
    "# 1.利用create_board创建棋盘\n",
    "# 2.轮流随机下棋子\n",
    "# 3.每次落子后使用evaluate()判断输赢\n",
    "# 4.持续游戏直到出现一个赢家或不可落子\n",
    "# 5.返回winner:1,2,或-1(表示平局)\n",
    "\n",
    "# ==YOUR CODE==\n",
    "\n",
    "# 测试\n",
    "\n"
   ]
  },
  {
   "cell_type": "code",
   "execution_count": 15,
   "metadata": {},
   "outputs": [],
   "source": [
    "import time\n",
    "import matplotlib.pyplot as plt\n",
    "\n",
    "# 提示:实现下面的功能\n",
    "# 1.玩1000次游戏\n",
    "# 2.计算玩1000次游戏用的时间\n",
    "# 3.统计1000次游戏的结果存在列表res中\n",
    "# 4.使用plt.hist(res)观察结果的分布\n",
    "# 并分析结果：\n",
    "# 1.玩家1比玩家2赢的次数多吗?\n",
    "# 2.二玩家赢的次数是否都比平局的次数多?\n"
   ]
  },
  {
   "cell_type": "code",
   "execution_count": 16,
   "metadata": {},
   "outputs": [],
   "source": [
    "# 提示:\n",
    "# 编写一个函数play_strategic_game()，实现\n",
    "# 1.player1先下，player第一次下在棋盘正中心位置,之后轮流随机落子\n",
    "# 2.返回 winner\n",
    "\n",
    "# 并调用一次play_strategic_game()\n",
    "\n",
    "\n",
    "\n"
   ]
  },
  {
   "cell_type": "code",
   "execution_count": 17,
   "metadata": {},
   "outputs": [],
   "source": [
    "# 提示:实现下面的功能\n",
    "# 1.使用play_strategic_game()玩1000次游戏\n",
    "# 2.计算玩1000次游戏用的时间\n",
    "# 3.统计1000次游戏的结果存在列表res中\n",
    "# 4.使用plt.hist(res)观察结果的分布\n",
    "# 和play_game()做对比，分析结果\n",
    "# 1.玩家1是否表现得更好了？\n",
    "# 2.二玩家赢的次数是否都比平局的次数多?\n",
    "\n"
   ]
  }
 ],
 "metadata": {
  "kernelspec": {
   "display_name": "Python 3",
   "language": "python",
   "name": "python3"
  },
  "language_info": {
   "codemirror_mode": {
    "name": "ipython",
    "version": 3
   },
   "file_extension": ".py",
   "mimetype": "text/x-python",
   "name": "python",
   "nbconvert_exporter": "python",
   "pygments_lexer": "ipython3",
   "version": "3.5.5"
  },
  "widgets": {
   "state": {},
   "version": "1.1.2"
  }
 },
 "nbformat": 4,
 "nbformat_minor": 2
}

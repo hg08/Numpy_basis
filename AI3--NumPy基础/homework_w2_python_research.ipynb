{
 "cells": [
  {
   "cell_type": "code",
   "execution_count": 84,
   "metadata": {},
   "outputs": [
    {
     "data": {
      "text/plain": [
       "array([[0., 0., 0.],\n",
       "       [0., 0., 0.],\n",
       "       [0., 0., 0.]])"
      ]
     },
     "execution_count": 84,
     "metadata": {},
     "output_type": "execute_result"
    }
   ],
   "source": [
    "# 提示:\n",
    "# 使用numpy创建一个3x3的array, 初始元素为0\n",
    "\n",
    "import numpy as np \n",
    "def create_board():\n",
    "    return np.zeros((3,3))\n",
    "    \n",
    "board = create_board()\n",
    "board"
   ]
  },
  {
   "cell_type": "code",
   "execution_count": 85,
   "metadata": {},
   "outputs": [],
   "source": [
    "# 提示:\n",
    "# \n",
    "# 1.定义一个函数 place(board, player, position)\n",
    "# player：代表当前玩家(一个1或2的整数，表示玩家1或2)\n",
    "# position:一个tuple,表示想要落子的坐标位置\n",
    "# 只有当position位置未被占用，方能落子，落子后将position位置\n",
    "# 换成player的值\n",
    "#\n",
    "# 2.使用create_board()创建棋盘board,\n",
    "# 并调用place将玩家1放置到(0,0)\n",
    "\n",
    "def place(board, player, position):\n",
    "    if board[position] == 0:\n",
    "        board[position] = player\n",
    "        \n",
    "# 利用create_board()创建一个棋盘board\n",
    "board = create_board()\n",
    "\n",
    "#利用create_board()保存棋盘到变量board, 利用 place()使棋手1放置其自身的号码到位置(0, 0).\n",
    "place(board, 1, (0,0))\n",
    "# 打印出board."
   ]
  },
  {
   "cell_type": "code",
   "execution_count": 86,
   "metadata": {},
   "outputs": [
    {
     "data": {
      "text/plain": [
       "[(0, 1), (0, 2), (1, 0), (1, 1), (1, 2), (2, 0), (2, 1), (2, 2)]"
      ]
     },
     "execution_count": 86,
     "metadata": {},
     "output_type": "execute_result"
    }
   ],
   "source": [
    "# 提示:\n",
    "# 建立一个函数possibilities(board),返\n",
    "# 回棋盘上所有未被放置棋子的位置的一个序列(保存为元组).\n",
    "def possibilities(board):\n",
    "    \n",
    "    index = np.where(board==0)\n",
    "    all_p = []\n",
    "    for i in range(index[0].shape[0]):\n",
    "        temp = (index[0][i],index[1][i])\n",
    "        all_p.append(temp)\n",
    "    return all_p\n",
    "    \n",
    "possibilities(board)\n"
   ]
  },
  {
   "cell_type": "code",
   "execution_count": 87,
   "metadata": {},
   "outputs": [
    {
     "data": {
      "text/plain": [
       "array([[1., 0., 0.],\n",
       "       [0., 0., 0.],\n",
       "       [0., 0., 2.]])"
      ]
     },
     "execution_count": 87,
     "metadata": {},
     "output_type": "execute_result"
    }
   ],
   "source": [
    "# 提示:\n",
    "# 写一个函数random_place(board,player),随机地放置\n",
    "# 玩家到可能的位置\n",
    "import random\n",
    "\n",
    "def random_place(board, player):\n",
    "    selection = possibilities(board)\n",
    "    position = random.choice(selection)\n",
    "    place(board, player, position)\n",
    "    \n",
    "# 更新board   \n",
    "random_place(board,2)\n",
    "board"
   ]
  },
  {
   "cell_type": "code",
   "execution_count": 88,
   "metadata": {},
   "outputs": [
    {
     "name": "stdout",
     "output_type": "stream",
     "text": [
      "[[1. 0. 2.]\n",
      " [1. 2. 0.]\n",
      " [0. 1. 2.]]\n"
     ]
    }
   ],
   "source": [
    "board = create_board()\n",
    "# 提示：\n",
    "# 对玩家1和玩家2,调用random_place(board,player)\n",
    "# 使分别放置3个棋子在棋盘board上.\n",
    "\n",
    "random_place(board,1)\n",
    "random_place(board,2)\n",
    "random_place(board,1)\n",
    "random_place(board,2)\n",
    "random_place(board,1)\n",
    "random_place(board,2)\n",
    "\n",
    "# 打印出board\n",
    "print(board)"
   ]
  },
  {
   "cell_type": "code",
   "execution_count": 89,
   "metadata": {},
   "outputs": [
    {
     "name": "stdout",
     "output_type": "stream",
     "text": [
      "False\n"
     ]
    }
   ],
   "source": [
    "# 提示:\n",
    "# 建立一个函数row_win(board, player)\n",
    "# 判断如果任意一行满足都是player的标志\n",
    "# 则返回True,否则返回False\n",
    "def row_win(board, player):\n",
    "    m = 3\n",
    "    for i in range(m):\n",
    "        if board[i][0] == board[i][1] and board[i][2] == board[i][1]:\n",
    "            if board[i][0] == player:\n",
    "                return True\n",
    "    return False\n",
    "\n",
    "print(row_win(board,1))"
   ]
  },
  {
   "cell_type": "code",
   "execution_count": 90,
   "metadata": {},
   "outputs": [
    {
     "name": "stdout",
     "output_type": "stream",
     "text": [
      "False\n"
     ]
    }
   ],
   "source": [
    "# 建立一个函数col_win(board, player)\n",
    "# 判断如果任意一列满足都是player的标志\n",
    "# 则返回True,否则返回False\n",
    "\n",
    "def col_win(board, player):\n",
    "    m = 3\n",
    "    for i in range(m):\n",
    "        if board[0][i] == board[1][i] and board[2][i] == board[1][i]:\n",
    "            if board[0][i] == player:\n",
    "                return True\n",
    "    return False\n",
    "\n",
    "print(col_win(board,1))"
   ]
  },
  {
   "cell_type": "code",
   "execution_count": 91,
   "metadata": {},
   "outputs": [
    {
     "name": "stdout",
     "output_type": "stream",
     "text": [
      "[[1. 0. 2.]\n",
      " [1. 2. 0.]\n",
      " [0. 1. 2.]]\n",
      "False\n"
     ]
    }
   ],
   "source": [
    "# 建立一个函数diag_win(board, player),\n",
    "# 如果player赢,返回True, 否则False. \n",
    "# 可能要用到np.rot90()函数.\n",
    "\n",
    "def diag_win(board, player):\n",
    "    li = np.diag(board)\n",
    "    if li[0] == li[1] and li[1] == li[2]:\n",
    "        if li[0] == player:\n",
    "            return True\n",
    "        \n",
    "    board_help = np.rot90(board)\n",
    "    li = np.diag(board_help)\n",
    "    if li[0] == li[1] and li[1] == li[2]:\n",
    "        if li[0] == player:\n",
    "            return True\n",
    "    return False\n",
    "            \n",
    "diag_win(board,1)\n",
    "# 打印出board\n",
    "print(board)\n",
    "print(diag_win(board,1))"
   ]
  },
  {
   "cell_type": "code",
   "execution_count": 92,
   "metadata": {},
   "outputs": [
    {
     "data": {
      "text/plain": [
       "0"
      ]
     },
     "execution_count": 92,
     "metadata": {},
     "output_type": "execute_result"
    }
   ],
   "source": [
    "# 提示:\n",
    "# 创建一个函数evaluate(board)\n",
    "# 对玩家1,2，判断是否满足`row_win`, `col_win`, 或 `diag_win`\n",
    "# 若满足，则保存玩家编号到winner\n",
    "# 若无处落子但还未分出胜负则返回winner=-1\n",
    "def evaluate(board):\n",
    "    winner = 0\n",
    "    for player in [1, 2]:\n",
    "        # Check if `row_win`, `col_win`, or `diag_win` apply. \n",
    "        # If so, store `player` as `winner`.\n",
    "        #===YOUR CODE=\n",
    "        if row_win(board,player) or col_win(board,player) or \\\n",
    "        diag_win(board,player):\n",
    "            winner = player \n",
    "        #============= \n",
    "    if np.all(board != 0) and winner == 0:\n",
    "        winner = -1\n",
    "    return winner\n",
    "\n",
    "evaluate(board)"
   ]
  },
  {
   "cell_type": "code",
   "execution_count": 93,
   "metadata": {},
   "outputs": [
    {
     "data": {
      "text/plain": [
       "1"
      ]
     },
     "execution_count": 93,
     "metadata": {},
     "output_type": "execute_result"
    }
   ],
   "source": [
    "# 提示:\n",
    "# 创建一个函数play_game(),实现以下功能:\n",
    "# 1.创建棋盘\n",
    "# 2.轮流随机下棋子\n",
    "# 3.每次落子后使用evaluate()判断输赢\n",
    "# 4.持续游戏直到出现一个赢家或不可落子\n",
    "# 5.返回winner:1,2,或-1(表示平局)\n",
    "\n",
    "def play_game():\n",
    "    board = create_board()\n",
    "    winner = 0\n",
    "    while not (np.all(board != 0) and winner == 0):\n",
    "        for player in [1,2]:\n",
    "            random_place(board,player)\n",
    "            winner = evaluate(board)\n",
    "            if winner != 0:\n",
    "                return winner\n",
    "    return winner\n",
    "\n",
    "play_game()"
   ]
  },
  {
   "cell_type": "code",
   "execution_count": 94,
   "metadata": {},
   "outputs": [
    {
     "name": "stdout",
     "output_type": "stream",
     "text": [
      "0.33771181106567383\n"
     ]
    },
    {
     "data": {
      "image/png": "[encoded data removed]",
      "text/plain": [
       "<matplotlib.figure.Figure at 0x7f9e9390f978>"
      ]
     },
     "metadata": {},
     "output_type": "display_data"
    }
   ],
   "source": [
    "import time\n",
    "import matplotlib.pyplot as plt\n",
    "\n",
    "# 提示:实现下面的功能\n",
    "# 1.玩1000次游戏\n",
    "# 2.计算玩1000次游戏用的时间\n",
    "# 3.统计1000次游戏的结果存在列表res中\n",
    "# 4.使用plt.hist(res)观察结果的分布\n",
    "# 并分析结果：\n",
    "# 1.玩家1比玩家2赢的次数多吗?\n",
    "# 2.二玩家赢的次数是否都比平局的次数多?\n",
    "res = []\n",
    "start = time.time()\n",
    "for n in range(1000):\n",
    "    res.append(play_game())\n",
    "stop = time.time()\n",
    "time_used = stop - start\n",
    "print(time_used)\n",
    "plt.hist(res);"
   ]
  },
  {
   "cell_type": "code",
   "execution_count": 95,
   "metadata": {},
   "outputs": [
    {
     "data": {
      "text/plain": [
       "1"
      ]
     },
     "execution_count": 95,
     "metadata": {},
     "output_type": "execute_result"
    }
   ],
   "source": [
    "# 提示:\n",
    "# 编写一个函数play_strategic_game()，实现\n",
    "# 1.player1先下，player第一次下在棋盘正中心位置,之后轮流随机落子\n",
    "# 2.返回 winner\n",
    "\n",
    "# 并调用一次play_strategic_game()\n",
    "\n",
    "def play_strategic_game():\n",
    "    board, winner = create_board(), 0\n",
    "    board[1,1] = 1\n",
    "    while winner == 0:\n",
    "        for player in [2,1]:\n",
    "            # use `random_place` to play a game, and store as `board`.\n",
    "            random_place(board,player)\n",
    "            # use `evaluate(board)`, and store as `winner`.\n",
    "            winner = evaluate(board)\n",
    "            if winner != 0:\n",
    "                break\n",
    "    return winner\n",
    "\n",
    "play_strategic_game()"
   ]
  },
  {
   "cell_type": "code",
   "execution_count": 96,
   "metadata": {},
   "outputs": [
    {
     "name": "stdout",
     "output_type": "stream",
     "text": [
      "0.28874802589416504\n"
     ]
    },
    {
     "data": {
      "image/png": "[encoded data removed]",
      "text/plain": [
       "<matplotlib.figure.Figure at 0x7f9ea2393dd8>"
      ]
     },
     "metadata": {},
     "output_type": "display_data"
    }
   ],
   "source": [
    "# 提示:实现下面的功能\n",
    "# 1.使用play_strategic_game()玩1000次游戏\n",
    "# 2.计算玩1000次游戏用的时间\n",
    "# 3.统计1000次游戏的结果存在列表res中\n",
    "# 4.使用plt.hist(res)观察结果的分布\n",
    "# 和play_game()做对比，分析结果\n",
    "# 1.玩家1是否表现得更好了？\n",
    "# 2.二玩家赢的次数是否都比平局的次数多?\n",
    "import time\n",
    "res = []\n",
    "start = time.time()\n",
    "for n in range(1000):\n",
    "    res.append(play_strategic_game())\n",
    "stop = time.time()\n",
    "time_used = stop - start\n",
    "print(time_used)\n",
    "plt.hist(res)\n",
    "plt.show()"
   ]
  },
  {
   "cell_type": "code",
   "execution_count": null,
   "metadata": {},
   "outputs": [],
   "source": []
  }
 ],
 "metadata": {
  "kernelspec": {
   "display_name": "Python 3",
   "language": "python",
   "name": "python3"
  },
  "language_info": {
   "codemirror_mode": {
    "name": "ipython",
    "version": 3
   },
   "file_extension": ".py",
   "mimetype": "text/x-python",
   "name": "python",
   "nbconvert_exporter": "python",
   "pygments_lexer": "ipython3",
   "version": "3.6.4"
  },
  "widgets": {
   "state": {},
   "version": "1.1.2"
  }
 },
 "nbformat": 4,
 "nbformat_minor": 2
}
